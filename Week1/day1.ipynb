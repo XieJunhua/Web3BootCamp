{
 "cells": [
  {
   "cell_type": "code",
   "execution_count": 5,
   "metadata": {},
   "outputs": [],
   "source": [
    "import hashlib\n",
    "import time\n",
    "\n",
    "m = hashlib.sha256()\n",
    "\n",
    "\n",
    "def run_hash256_by_number(num):\n",
    "    start = time.time()\n",
    "    i = 0\n",
    "    while True:\n",
    "        i = i + 1\n",
    "        m.update(b\"junhua\" + str(i).encode())\n",
    "        result = m.hexdigest()\n",
    "        if result[:num] == '0'*num:\n",
    "            print(i)\n",
    "            print(\"-------\")\n",
    "            print(result)\n",
    "            print(\"-----------------\")\n",
    "            break\n",
    "    end = time.time()\n",
    "    print(f\"total time cast {end - start}s\")\n"
   ]
  },
  {
   "cell_type": "markdown",
   "metadata": {},
   "source": [
    "直到满足 4 个 0 开头的哈希值，打印出花费的时间:"
   ]
  },
  {
   "cell_type": "code",
   "execution_count": 6,
   "metadata": {},
   "outputs": [
    {
     "name": "stdout",
     "output_type": "stream",
     "text": [
      "80099\n",
      "-------\n",
      "0000660e308e405ea4a06886c87014c037048210c95a21603bc088465b632275\n",
      "-----------------\n",
      "total time cast 0.16420578956604004s\n"
     ]
    }
   ],
   "source": [
    "run_hash256_by_number(4)"
   ]
  },
  {
   "cell_type": "markdown",
   "metadata": {},
   "source": [
    "再次运算直到满足 5 个 0 开头的哈希值，打印出花费的时间:"
   ]
  },
  {
   "cell_type": "code",
   "execution_count": 7,
   "metadata": {},
   "outputs": [
    {
     "name": "stdout",
     "output_type": "stream",
     "text": [
      "2103178\n",
      "-------\n",
      "00000db2f900ae14564d534f504815bbbe36655c2ac51b35085e226d82dd7bdb\n",
      "-----------------\n",
      "total time cast 3.9035370349884033s\n"
     ]
    }
   ],
   "source": [
    "run_hash256_by_number(5)"
   ]
  }
 ],
 "metadata": {
  "kernelspec": {
   "display_name": "py39",
   "language": "python",
   "name": "python3"
  },
  "language_info": {
   "codemirror_mode": {
    "name": "ipython",
    "version": 3
   },
   "file_extension": ".py",
   "mimetype": "text/x-python",
   "name": "python",
   "nbconvert_exporter": "python",
   "pygments_lexer": "ipython3",
   "version": "3.9.2"
  }
 },
 "nbformat": 4,
 "nbformat_minor": 2
}
